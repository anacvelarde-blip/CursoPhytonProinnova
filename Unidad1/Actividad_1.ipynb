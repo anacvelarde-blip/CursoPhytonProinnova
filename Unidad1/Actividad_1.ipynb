{
  "nbformat": 4,
  "nbformat_minor": 0,
  "metadata": {
    "colab": {
      "provenance": [],
      "authorship_tag": "ABX9TyP8QqP0rTK+TqGLa13KqznS",
      "include_colab_link": true
    },
    "kernelspec": {
      "name": "python3",
      "display_name": "Python 3"
    },
    "language_info": {
      "name": "python"
    }
  },
  "cells": [
    {
      "cell_type": "markdown",
      "metadata": {
        "id": "view-in-github",
        "colab_type": "text"
      },
      "source": [
        "<a href=\"https://colab.research.google.com/github/anacvelarde-blip/CursoPhytonProinnova/blob/main/Unidad1/Actividad_1.ipynb\" target=\"_parent\"><img src=\"https://colab.research.google.com/assets/colab-badge.svg\" alt=\"Open In Colab\"/></a>"
      ]
    },
    {
      "cell_type": "code",
      "execution_count": 9,
      "metadata": {
        "colab": {
          "base_uri": "https://localhost:8080/"
        },
        "id": "ceoRRzks6pyC",
        "outputId": "9cf39e3a-6a8f-4d5d-ecae-d6d8c4490d08"
      },
      "outputs": [
        {
          "output_type": "stream",
          "name": "stdout",
          "text": [
            "Ana Lau\n",
            "Hola Mundo\n",
            "Fecha y hora (UTC): 2025-09-11 01:09\n"
          ]
        }
      ],
      "source": [
        "# prompt: print  ('Ana Lau')\n",
        "\n",
        "print('Ana Lau')\n",
        "print (\"Hola Mundo\")\n",
        "\n",
        "import datetime\n",
        "\n",
        "# Hora 8tidmpo universal coordinado, UTC y fecha)\n",
        "now = datetime.datetime.now()\n",
        "print(f\"Fecha y hora (UTC): {now.strftime('%Y-%m-%d %H:%M')}\")"
      ]
    },
    {
      "cell_type": "markdown",
      "source": [
        "# \"Actividad 1\"\n",
        "\n",
        "Ana Laura Chavez\n",
        "\n",
        "\n",
        "\n"
      ],
      "metadata": {
        "id": "LY5Z8vHKJQZ6"
      }
    },
    {
      "cell_type": "code",
      "source": [
        "import sys\n",
        "#Version de Python\n",
        "print (f\"Python version: {sys.version}\")\n",
        "\n",
        "import platform\n",
        "\n",
        "# Parametros del entorno de ejecucion (ejemplo con algunas variables)\n",
        "print(\"\\nParametros del entorno de ejecución:\")\n",
        "print(f\"Sistema Operativo: {platform.system()}\")\n",
        "print(f\"Nombre del Nodo: {platform.node()}\")\n",
        "print(f\"Arquitectura: {platform.architecture()}\")\n",
        "print(f\"Procesador: {platform.processor()}\")\n"
      ],
      "metadata": {
        "colab": {
          "base_uri": "https://localhost:8080/"
        },
        "id": "RMKl1lRXR08E",
        "outputId": "52653291-ab11-4eba-89be-c2fd88283c7c"
      },
      "execution_count": 10,
      "outputs": [
        {
          "output_type": "stream",
          "name": "stdout",
          "text": [
            "Python version: 3.12.11 (main, Jun  4 2025, 08:56:18) [GCC 11.4.0]\n",
            "\n",
            "Parametros del entorno de ejecución:\n",
            "Sistema Operativo: Linux\n",
            "Nombre del Nodo: a99bcaa7ea63\n",
            "Arquitectura: ('64bit', 'ELF')\n",
            "Procesador: x86_64\n"
          ]
        }
      ]
    },
    {
      "cell_type": "code",
      "source": [],
      "metadata": {
        "id": "2y2fU8QTIDB2"
      },
      "execution_count": 10,
      "outputs": []
    },
    {
      "cell_type": "markdown",
      "source": [],
      "metadata": {
        "id": "434pv14-IAwx"
      }
    }
  ]
}