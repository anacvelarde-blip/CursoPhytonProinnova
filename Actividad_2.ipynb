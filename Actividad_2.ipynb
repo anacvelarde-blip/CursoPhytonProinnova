{
  "nbformat": 4,
  "nbformat_minor": 0,
  "metadata": {
    "colab": {
      "provenance": [],
      "authorship_tag": "ABX9TyOGD5MixSxeDdGlYhHelE7u",
      "include_colab_link": true
    },
    "kernelspec": {
      "name": "python3",
      "display_name": "Python 3"
    },
    "language_info": {
      "name": "python"
    }
  },
  "cells": [
    {
      "cell_type": "markdown",
      "metadata": {
        "id": "view-in-github",
        "colab_type": "text"
      },
      "source": [
        "<a href=\"https://colab.research.google.com/github/anacvelarde-blip/CursoPhytonProinnova/blob/main/Actividad_2.ipynb\" target=\"_parent\"><img src=\"https://colab.research.google.com/assets/colab-badge.svg\" alt=\"Open In Colab\"/></a>"
      ]
    },
    {
      "cell_type": "markdown",
      "source": [
        "17 septiembre 2025. Analisis y visualizacion de datos con python en la nube. Ana Laura Chávez Velarde. CUCSH."
      ],
      "metadata": {
        "id": "Dbgny2D0ClCt"
      }
    },
    {
      "cell_type": "code",
      "source": [],
      "metadata": {
        "id": "W9ZJ-M7lI2mL"
      },
      "execution_count": 19,
      "outputs": []
    },
    {
      "cell_type": "code",
      "execution_count": 20,
      "metadata": {
        "colab": {
          "base_uri": "https://localhost:8080/"
        },
        "id": "W7EkZsSO_mDX",
        "outputId": "15d18098-436e-4538-e978-65d050c468ae"
      },
      "outputs": [
        {
          "output_type": "stream",
          "name": "stdout",
          "text": [
            "Drive already mounted at /content/drive; to attempt to forcibly remount, call drive.mount(\"/content/drive\", force_remount=True).\n",
            "Fecha y hora (UTC): 2025-09-18 00:13\n"
          ]
        }
      ],
      "source": [
        "from google.colab import drive\n",
        "drive.mount('/content/drive')\n",
        "\n",
        "import datetime\n",
        "\n",
        "# Hora 8tidmpo universal coordinado, UTC y fecha)\n",
        "now = datetime.datetime.now()\n",
        "print(f\"Fecha y hora (UTC): {now.strftime('%Y-%m-%d %H:%M')}\")"
      ]
    },
    {
      "cell_type": "code",
      "source": [
        "nombre_archivo = \"Actividad_2_ana_lau.txt\"\n",
        "ruta = '/content/drive/MyDrive/Phyton Proinnova 2025B/'\n",
        "file = 'Actividad_2_ana_lau.txt'\n",
        "with open(ruta + file, 'r') as f:\n",
        "    contenido = f.read()\n",
        "print(contenido)"
      ],
      "metadata": {
        "colab": {
          "base_uri": "https://localhost:8080/"
        },
        "id": "4fi-354IHZlb",
        "outputId": "68a3861a-b079-438f-97a1-a7b9711363f1"
      },
      "execution_count": 21,
      "outputs": [
        {
          "output_type": "stream",
          "name": "stdout",
          "text": [
            "{\\rtf1\\ansi\\ansicpg1252\\cocoartf2639\n",
            "\\cocoatextscaling0\\cocoaplatform0{\\fonttbl\\f0\\fswiss\\fcharset0 Helvetica;}\n",
            "{\\colortbl;\\red255\\green255\\blue255;}\n",
            "{\\*\\expandedcolortbl;;}\n",
            "\\margl1440\\margr1440\\vieww11520\\viewh8400\\viewkind0\n",
            "\\pard\\tx566\\tx1133\\tx1700\\tx2267\\tx2834\\tx3401\\tx3968\\tx4535\\tx5102\\tx5669\\tx6236\\tx6803\\pardirnatural\\partightenfactor0\n",
            "\n",
            "\\f0\\fs24 \\cf0 Bienvenidos al curso python for dummies\\\n",
            "\\\n",
            "=) \\\n",
            "\\\n",
            "Disfrute el sufrimiento\\\n",
            "}\n"
          ]
        }
      ]
    },
    {
      "cell_type": "code",
      "source": [],
      "metadata": {
        "id": "44xx8amJJgRz"
      },
      "execution_count": 21,
      "outputs": []
    }
  ]
}