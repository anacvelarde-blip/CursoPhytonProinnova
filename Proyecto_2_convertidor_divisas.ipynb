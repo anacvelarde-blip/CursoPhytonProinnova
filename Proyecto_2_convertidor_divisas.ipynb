{
  "nbformat": 4,
  "nbformat_minor": 0,
  "metadata": {
    "colab": {
      "provenance": [],
      "authorship_tag": "ABX9TyMFubI5AhnmtyvTDUJ0LQaa",
      "include_colab_link": true
    },
    "kernelspec": {
      "name": "python3",
      "display_name": "Python 3"
    },
    "language_info": {
      "name": "python"
    }
  },
  "cells": [
    {
      "cell_type": "markdown",
      "metadata": {
        "id": "view-in-github",
        "colab_type": "text"
      },
      "source": [
        "<a href=\"https://colab.research.google.com/github/anacvelarde-blip/CursoPhytonProinnova/blob/main/Proyecto_2_convertidor_divisas.ipynb\" target=\"_parent\"><img src=\"https://colab.research.google.com/assets/colab-badge.svg\" alt=\"Open In Colab\"/></a>"
      ]
    },
    {
      "cell_type": "markdown",
      "source": [
        "Proyecto 2 Convertidor de Divisas\n",
        "Ana Laura Chavez Velarde\n",
        "Curso Proinnova Python\n",
        "CUCSH\n",
        "\n"
      ],
      "metadata": {
        "id": "E5uw8uG5I1sS"
      }
    },
    {
      "cell_type": "code",
      "execution_count": null,
      "metadata": {
        "id": "_Lme_mVuHKZG"
      },
      "outputs": [],
      "source": [
        "import json\n",
        "import requests\n",
        "\n",
        "def currency_search(cur):\n",
        "    r = requests.get(\"http://www.floatrates.com/daily/{}.json\".format(cur))\n",
        "    return r.text\n",
        "\n",
        "exchange_file = currency_search(\"mxn\")\n",
        "exchange_dict = json.loads(exchange_file)"
      ]
    },
    {
      "cell_type": "markdown",
      "source": [
        "#Presentar al usuario"
      ],
      "metadata": {
        "id": "b_lDIpWYHOF3"
      }
    },
    {
      "cell_type": "code",
      "source": [],
      "metadata": {
        "colab": {
          "base_uri": "https://localhost:8080/",
          "height": 515
        },
        "id": "cG4yadWtJVL4",
        "outputId": "c559108f-5b66-472a-e8a7-a65c25b694ba"
      },
      "execution_count": null,
      "outputs": [
        {
          "output_type": "stream",
          "name": "stdout",
          "text": [
            "Introduce el código de la divisa de origen (o presiona Enter para salir): MXN\n",
            "Datos de intercambio para MXN descargados y convertidos a diccionario.\n",
            "Divisas disponibles para convertir desde MXN : aud, cad, chf, cny, eur, gbp, hkd, idr, inr, jpy, krw, myr, nzd, php, sgd, thb, twd, usd, vnd, aed, qar, sar, dkk, egp, ils, jod, lbp, nok, sek, zar, afn, all, amd, aoa, ars, awg, azn, bam, bbd, bdt, bgn, bhd, bif, bnd, bob, brl, bsd, bwp, byn, bzd, cdf, clp, cop, crc, cve, czk, djf, dop, dzd, ern, etb, fjd, gel, ghs, gip, gmd, gnf, gtq, gyd, hnl, htg, huf, iqd, irr, isk, jmd, kes, kgs, khr, kmf, kwd, kzt, lak, lkr, lrd, lsl, lyd, mad, mdl, mga, mkd, mmk, mnt, mop, mru, mur, mvr, mwk, mzn, nad, ngn, nio, npr, omr, pab, pen, pgk, pkr, pln, pyg, ron, rsd, rub, rwf, sbd, scr, sdg, sos, srd, ssp, stn, svc, syp, szl, tjs, tmt, tnd, top, try, ttd, tzs, uah, ugx, uyu, uzs, ves, vuv, wst, xaf, xcd, xcg, xof, xpf, yer, zmw, cup\n",
            "Introduce el código de la divisa de origen (o presiona Enter para salir): idr\n",
            "Datos de intercambio para IDR descargados y convertidos a diccionario.\n",
            "Divisas disponibles para convertir desde IDR : aud, cad, chf, cny, eur, gbp, hkd, inr, jpy, krw, myr, nzd, php, sgd, thb, twd, usd, vnd, aed, qar, sar, dkk, egp, ils, jod, lbp, nok, sek, zar, afn, all, amd, aoa, ars, awg, azn, bam, bbd, bdt, bgn, bhd, bif, bnd, bob, brl, bsd, bwp, byn, bzd, cdf, clp, cop, crc, cve, czk, djf, dop, dzd, ern, etb, fjd, gel, ghs, gip, gmd, gnf, gtq, gyd, hnl, htg, huf, iqd, irr, isk, jmd, kes, kgs, khr, kmf, kwd, kzt, lak, lkr, lrd, lsl, lyd, mad, mdl, mga, mkd, mmk, mnt, mop, mru, mur, mvr, mwk, mxn, mzn, nad, ngn, nio, npr, omr, pab, pen, pgk, pkr, pln, pyg, ron, rsd, rub, rwf, sbd, scr, sdg, sos, srd, ssp, stn, svc, syp, szl, tjs, tmt, tnd, top, try, ttd, tzs, uah, ugx, uyu, uzs, ves, vuv, wst, xaf, xcd, xcg, xof, xpf, yer, zmw, cup\n"
          ]
        },
        {
          "output_type": "error",
          "ename": "KeyboardInterrupt",
          "evalue": "Interrupted by user",
          "traceback": [
            "\u001b[0;31m---------------------------------------------------------------------------\u001b[0m",
            "\u001b[0;31mKeyboardInterrupt\u001b[0m                         Traceback (most recent call last)",
            "\u001b[0;32m/tmp/ipython-input-2773394663.py\u001b[0m in \u001b[0;36m<cell line: 0>\u001b[0;34m()\u001b[0m\n\u001b[1;32m     12\u001b[0m \u001b[0;34m\u001b[0m\u001b[0m\n\u001b[1;32m     13\u001b[0m \u001b[0;32mwhile\u001b[0m \u001b[0;32mTrue\u001b[0m\u001b[0;34m:\u001b[0m\u001b[0;34m\u001b[0m\u001b[0;34m\u001b[0m\u001b[0m\n\u001b[0;32m---> 14\u001b[0;31m     \u001b[0msource_currency\u001b[0m \u001b[0;34m=\u001b[0m \u001b[0minput\u001b[0m\u001b[0;34m(\u001b[0m\u001b[0;34m\"Introduce el código de la divisa de origen (o presiona Enter para salir): \"\u001b[0m\u001b[0;34m)\u001b[0m\u001b[0;34m\u001b[0m\u001b[0;34m\u001b[0m\u001b[0m\n\u001b[0m\u001b[1;32m     15\u001b[0m     \u001b[0;32mif\u001b[0m \u001b[0;32mnot\u001b[0m \u001b[0msource_currency\u001b[0m\u001b[0;34m:\u001b[0m\u001b[0;34m\u001b[0m\u001b[0;34m\u001b[0m\u001b[0m\n\u001b[1;32m     16\u001b[0m         \u001b[0;32mbreak\u001b[0m\u001b[0;34m\u001b[0m\u001b[0;34m\u001b[0m\u001b[0m\n",
            "\u001b[0;32m/usr/local/lib/python3.12/dist-packages/ipykernel/kernelbase.py\u001b[0m in \u001b[0;36mraw_input\u001b[0;34m(self, prompt)\u001b[0m\n\u001b[1;32m   1175\u001b[0m                 \u001b[0;34m\"raw_input was called, but this frontend does not support input requests.\"\u001b[0m\u001b[0;34m\u001b[0m\u001b[0;34m\u001b[0m\u001b[0m\n\u001b[1;32m   1176\u001b[0m             )\n\u001b[0;32m-> 1177\u001b[0;31m         return self._input_request(\n\u001b[0m\u001b[1;32m   1178\u001b[0m             \u001b[0mstr\u001b[0m\u001b[0;34m(\u001b[0m\u001b[0mprompt\u001b[0m\u001b[0;34m)\u001b[0m\u001b[0;34m,\u001b[0m\u001b[0;34m\u001b[0m\u001b[0;34m\u001b[0m\u001b[0m\n\u001b[1;32m   1179\u001b[0m             \u001b[0mself\u001b[0m\u001b[0;34m.\u001b[0m\u001b[0m_parent_ident\u001b[0m\u001b[0;34m[\u001b[0m\u001b[0;34m\"shell\"\u001b[0m\u001b[0;34m]\u001b[0m\u001b[0;34m,\u001b[0m\u001b[0;34m\u001b[0m\u001b[0;34m\u001b[0m\u001b[0m\n",
            "\u001b[0;32m/usr/local/lib/python3.12/dist-packages/ipykernel/kernelbase.py\u001b[0m in \u001b[0;36m_input_request\u001b[0;34m(self, prompt, ident, parent, password)\u001b[0m\n\u001b[1;32m   1217\u001b[0m             \u001b[0;32mexcept\u001b[0m \u001b[0mKeyboardInterrupt\u001b[0m\u001b[0;34m:\u001b[0m\u001b[0;34m\u001b[0m\u001b[0;34m\u001b[0m\u001b[0m\n\u001b[1;32m   1218\u001b[0m                 \u001b[0;31m# re-raise KeyboardInterrupt, to truncate traceback\u001b[0m\u001b[0;34m\u001b[0m\u001b[0;34m\u001b[0m\u001b[0m\n\u001b[0;32m-> 1219\u001b[0;31m                 \u001b[0;32mraise\u001b[0m \u001b[0mKeyboardInterrupt\u001b[0m\u001b[0;34m(\u001b[0m\u001b[0;34m\"Interrupted by user\"\u001b[0m\u001b[0;34m)\u001b[0m \u001b[0;32mfrom\u001b[0m \u001b[0;32mNone\u001b[0m\u001b[0;34m\u001b[0m\u001b[0;34m\u001b[0m\u001b[0m\n\u001b[0m\u001b[1;32m   1220\u001b[0m             \u001b[0;32mexcept\u001b[0m \u001b[0mException\u001b[0m\u001b[0;34m:\u001b[0m\u001b[0;34m\u001b[0m\u001b[0;34m\u001b[0m\u001b[0m\n\u001b[1;32m   1221\u001b[0m                 \u001b[0mself\u001b[0m\u001b[0;34m.\u001b[0m\u001b[0mlog\u001b[0m\u001b[0;34m.\u001b[0m\u001b[0mwarning\u001b[0m\u001b[0;34m(\u001b[0m\u001b[0;34m\"Invalid Message:\"\u001b[0m\u001b[0;34m,\u001b[0m \u001b[0mexc_info\u001b[0m\u001b[0;34m=\u001b[0m\u001b[0;32mTrue\u001b[0m\u001b[0;34m)\u001b[0m\u001b[0;34m\u001b[0m\u001b[0;34m\u001b[0m\u001b[0m\n",
            "\u001b[0;31mKeyboardInterrupt\u001b[0m: Interrupted by user"
          ]
        }
      ]
    },
    {
      "cell_type": "code",
      "source": [
        "import json\n",
        "import requests\n",
        "\n",
        "def currency_search(cur):\n",
        "    r = requests.get(\"http://www.floatrates.com/daily/{}.json\".format(cur))\n",
        "    return r.text\n",
        "\n",
        "while True:\n",
        "    source_currency = input(\"Introduce el código de la divisa de origen (o presiona Enter para salir): \")\n",
        "    if not source_currency:\n",
        "        break\n",
        "    source_currency = source_currency.lower()\n",
        "\n",
        "    try:\n",
        "        exchange_file = currency_search(source_currency)\n",
        "        exchange_dict = json.loads(exchange_file)\n",
        "        print(f\"Datos de intercambio para {source_currency.upper()} descargados y convertidos a diccionario.\")\n",
        "        print(f\"Divisas disponibles para convertir desde {source_currency.upper()} : {', '.join(exchange_dict.keys())}\")\n",
        "\n",
        "        while True:\n",
        "            target_currency = input(\"Introduce el código de la divisa de destino (o presiona Enter para salir): \")\n",
        "            if not target_currency:\n",
        "                break\n",
        "\n",
        "            target_currency = target_currency.lower()\n",
        "\n",
        "            if target_currency in exchange_dict:\n",
        "                while True:\n",
        "                    amount_str = input(f\"Introduce la cantidad a convertir de {source_currency.upper()} a {target_currency.upper()}: \")\n",
        "                    try:\n",
        "                        amount = float(amount_str)\n",
        "                        # Perform the conversion\n",
        "                        # The exchange_dict contains rates from the source currency to other currencies.\n",
        "                        # So, we directly use the rate for the target currency.\n",
        "                        exchange_rate = exchange_dict[target_currency]['rate']\n",
        "                        converted_amount = amount * exchange_rate\n",
        "                        print(f\"{amount:.2f} {source_currency.upper()} es igual a {converted_amount:.2f} {target_currency.upper()}\")\n",
        "                        break # Exit the inner loop if conversion is successful\n",
        "                    except ValueError:\n",
        "                        print(\"Entrada no válida. Por favor, introduce una cantidad numérica.\")\n",
        "            else:\n",
        "                print(f\"La divisa de destino {target_currency.upper()} no se encuentra en la lista de divisas disponibles desde {source_currency.upper()}.\")\n",
        "    except Exception as e:\n",
        "        print(f\"Error al obtener o procesar datos de intercambio: {e}\")"
      ],
      "metadata": {
        "colab": {
          "base_uri": "https://localhost:8080/"
        },
        "id": "Qkslo3DMRjMl",
        "outputId": "08acfc43-1c61-4e69-a4e7-6390bb6a206c"
      },
      "execution_count": null,
      "outputs": [
        {
          "output_type": "stream",
          "name": "stdout",
          "text": [
            "Introduce el código de la divisa de origen (o presiona Enter para salir): USA\n",
            "Error al obtener o procesar datos de intercambio: Expecting value: line 1 column 1 (char 0)\n",
            "Introduce el código de la divisa de origen (o presiona Enter para salir): 100\n",
            "Error al obtener o procesar datos de intercambio: Expecting value: line 1 column 1 (char 0)\n",
            "Introduce el código de la divisa de origen (o presiona Enter para salir): MNX\n",
            "Error al obtener o procesar datos de intercambio: Expecting value: line 1 column 1 (char 0)\n",
            "Introduce el código de la divisa de origen (o presiona Enter para salir): MXN\n",
            "Datos de intercambio para MXN descargados y convertidos a diccionario.\n",
            "Divisas disponibles para convertir desde MXN : aud, cad, chf, cny, eur, gbp, hkd, idr, inr, jpy, krw, myr, nzd, php, sgd, thb, twd, usd, vnd, aed, qar, sar, afn, all, amd, aoa, ars, awg, azn, bam, bbd, bdt, bgn, bhd, bif, bnd, bob, brl, bsd, bwp, byn, bzd, cdf, clp, cop, crc, cve, czk, djf, dkk, dop, dzd, egp, ern, etb, fjd, gel, ghs, gip, gmd, gnf, gtq, gyd, hnl, htg, huf, ils, iqd, irr, isk, jmd, jod, kes, kgs, khr, kmf, kwd, kzt, lak, lbp, lkr, lrd, lsl, lyd, mad, mdl, mga, mkd, mmk, mnt, mop, mru, mur, mvr, mwk, mzn, nad, ngn, nio, nok, npr, omr, pab, pen, pgk, pkr, pln, pyg, ron, rsd, rub, rwf, sbd, scr, sdg, sek, sos, srd, ssp, stn, svc, syp, szl, tjs, tmt, tnd, top, try, ttd, tzs, uah, ugx, uyu, uzs, ves, vuv, wst, xaf, xcd, xcg, xof, xpf, yer, zar, zmw, cup\n",
            "Introduce el código de la divisa de destino (o presiona Enter para salir): usd\n",
            "Introduce la cantidad a convertir de MXN a USD: 100\n",
            "100.00 MXN es igual a 5.42 USD\n"
          ]
        }
      ]
    }
  ]
}