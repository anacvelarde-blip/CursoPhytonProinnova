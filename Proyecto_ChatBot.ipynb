{
  "nbformat": 4,
  "nbformat_minor": 0,
  "metadata": {
    "colab": {
      "provenance": [],
      "authorship_tag": "ABX9TyP0fJVXj78TS8HFDzyFbeyU",
      "include_colab_link": true
    },
    "kernelspec": {
      "name": "python3",
      "display_name": "Python 3"
    },
    "language_info": {
      "name": "python"
    }
  },
  "cells": [
    {
      "cell_type": "markdown",
      "metadata": {
        "id": "view-in-github",
        "colab_type": "text"
      },
      "source": [
        "<a href=\"https://colab.research.google.com/github/anacvelarde-blip/CursoPhytonProinnova/blob/main/Proyecto_ChatBot.ipynb\" target=\"_parent\"><img src=\"https://colab.research.google.com/assets/colab-badge.svg\" alt=\"Open In Colab\"/></a>"
      ]
    },
    {
      "cell_type": "markdown",
      "source": [
        "**Actividad: Proyecto 1_ ChatBot Simple**\n",
        "Fecha 8 de octubre\n",
        "# Curso Python Proinnova\n",
        "Ana Laura Chávez Velarde\n",
        "CUCSH"
      ],
      "metadata": {
        "id": "OTLZZ-JrGPBW"
      }
    },
    {
      "cell_type": "code",
      "execution_count": null,
      "metadata": {
        "colab": {
          "base_uri": "https://localhost:8080/"
        },
        "id": "jjplKrpOCRDE",
        "outputId": "3eb08d76-381c-427a-cc47-c9efb332bda7"
      },
      "outputs": [
        {
          "output_type": "stream",
          "name": "stdout",
          "text": [
            "Soy un ChatBot\n",
            "Please enter your username: Ana\n",
            "Hello, Ana!\n"
          ]
        }
      ],
      "source": [
        "print(\"Soy un ChatBot\")\n",
        "username = input(\"Please enter your username: \")\n",
        "print(f\"Hello, {username}!\")\n"
      ]
    },
    {
      "cell_type": "markdown",
      "metadata": {
        "id": "0aea1b9c"
      },
      "source": [
        "# Task\n",
        "Implement a component that asks the user for the remainders of their age when divided by 3, 5, and 7. Then, calculate the probable age using the formula `Edad = (residuo_3 * 70 + residuo_5 * 21 + residuo_7 * 15) mod 105` and print the calculated age."
      ]
    },
    {
      "cell_type": "markdown",
      "metadata": {
        "id": "db845973"
      },
      "source": [
        "## Get user input\n",
        "\n",
        "### Subtask:\n",
        "Ask the user for the remainders of their age when divided by 3, 5, and 7.\n"
      ]
    },
    {
      "cell_type": "markdown",
      "metadata": {
        "id": "c3de0686"
      },
      "source": [
        "**Reasoning**:\n",
        "The current subtask is to ask the user for the remainders of their age when divided by 3, 5, and 7. I will use the `input()` function to get these values from the user and store them in variables.\n",
        "\n"
      ]
    },
    {
      "cell_type": "code",
      "metadata": {
        "colab": {
          "base_uri": "https://localhost:8080/"
        },
        "id": "40a84ea1",
        "outputId": "8992b346-3538-4b1a-8739-293a11ac1bf3"
      },
      "source": [
        "remainder_3 = int(input(\"Please enter the remainder of your age when divided by 3: \"))\n",
        "remainder_5 = int(input(\"Please enter the remainder of your age when divided by 5: \"))\n",
        "remainder_7 = int(input(\"Please enter the remainder of your age when divided by 7: \"))"
      ],
      "execution_count": null,
      "outputs": [
        {
          "name": "stdout",
          "output_type": "stream",
          "text": [
            "Please enter the remainder of your age when divided by 3: 4\n",
            "Please enter the remainder of your age when divided by 5: 13\n",
            "Please enter the remainder of your age when divided by 7: 46\n"
          ]
        }
      ]
    },
    {
      "cell_type": "markdown",
      "metadata": {
        "id": "b99c1d3f"
      },
      "source": [
        "## Calculate probable age\n",
        "\n",
        "### Subtask:\n",
        "Use the provided formula to calculate the probable age based on the remainders.\n"
      ]
    },
    {
      "cell_type": "markdown",
      "metadata": {
        "id": "93def7f6"
      },
      "source": [
        "**Reasoning**:\n",
        "Calculate the probable age using the provided formula and store it in the `probable_age` variable.\n",
        "\n"
      ]
    },
    {
      "cell_type": "code",
      "metadata": {
        "id": "11f3040e"
      },
      "source": [
        "probable_age = (remainder_3 * 70 + remainder_5 * 21 + remainder_7 * 15) % 105"
      ],
      "execution_count": null,
      "outputs": []
    },
    {
      "cell_type": "markdown",
      "metadata": {
        "id": "95e94ac8"
      },
      "source": [
        "## Display calculated age\n",
        "\n",
        "### Subtask:\n",
        "Print the calculated probable age to the user.\n"
      ]
    },
    {
      "cell_type": "markdown",
      "metadata": {
        "id": "e1a57100"
      },
      "source": [
        "**Reasoning**:\n",
        "Print the calculated probable age to the user including the value of the `probable_age` variable.\n",
        "\n"
      ]
    },
    {
      "cell_type": "markdown",
      "metadata": {
        "id": "a71e73a0"
      },
      "source": [
        "# Task\n",
        "Implement a Python script that asks the user a multiple-choice question about Guadalajara. The question is \"¿Cual de las siguientes afirmaciones es correcta sobre la ciudad de Guadalajara?\" with the options: 1) Es la capital de México, 2) Fue fundada en 1921, 3) Se ubica en el estado de Guerrero, 4) Es conocida como \"La Perla Tapatía\". The correct answer is 4. The script should repeatedly ask the question until the user enters the correct answer, providing feedback on whether the answer is right or wrong. Use a `while` loop for this implementation."
      ]
    },
    {
      "cell_type": "markdown",
      "metadata": {
        "id": "ce0d5f92"
      },
      "source": [
        "## Define the question and options\n",
        "\n",
        "### Subtask:\n",
        "Store the multiple-choice question and its options in variables.\n"
      ]
    },
    {
      "cell_type": "markdown",
      "metadata": {
        "id": "10a7b872"
      },
      "source": [
        "**Reasoning**:\n",
        "Store the question, options, and correct answer in variables as instructed.\n",
        "\n"
      ]
    },
    {
      "cell_type": "code",
      "metadata": {
        "id": "c685ed53"
      },
      "source": [
        "question = \"¿Cual de las siguientes afirmaciones es correcta sobre la ciudad de Guadalajara?\"\n",
        "options = [\n",
        "    \"1) Es la capital de México\",\n",
        "    \"2) Fue fundada en 1921\",\n",
        "    \"3) Se ubica en el estado de Guerrero\",\n",
        "    \"4) Es conocida como \\\"La Perla Tapatía\\\"\"\n",
        "]\n",
        "correct_answer = 4"
      ],
      "execution_count": null,
      "outputs": []
    },
    {
      "cell_type": "markdown",
      "metadata": {
        "id": "7fde8e4b"
      },
      "source": [
        "## Implement the quiz loop\n",
        "\n",
        "### Subtask:\n",
        "Implement a `while` loop that continues until the user provides the correct answer to the multiple-choice question.\n"
      ]
    },
    {
      "cell_type": "markdown",
      "metadata": {
        "id": "ba61fcfa"
      },
      "source": [
        "**Reasoning**:\n",
        "Initialize `user_answer` and start the `while` loop that continues as long as `user_answer` is not equal to `correct_answer`.\n",
        "\n"
      ]
    },
    {
      "cell_type": "code",
      "metadata": {
        "id": "d979030e"
      },
      "source": [
        "user_answer = 0  # Initialize user_answer to a value not equal to correct_answer (which is 4)\n",
        "\n",
        "while user_answer != correct_answer:\n",
        "    # The rest of the quiz logic (printing question, getting input, checking answer) will go here in subsequent subtasks\n",
        "    pass # Placeholder for the loop body"
      ],
      "execution_count": null,
      "outputs": []
    },
    {
      "cell_type": "markdown",
      "metadata": {
        "id": "f1dd7cac"
      },
      "source": [
        "## Get user input\n",
        "\n",
        "### Subtask:\n",
        "Inside the `while` loop, prompt the user to enter their answer and store it.\n"
      ]
    },
    {
      "cell_type": "markdown",
      "metadata": {
        "id": "7116e93f"
      },
      "source": [
        "**Reasoning**:\n",
        "Inside the `while` loop, print the question and options, then prompt the user for their answer and store it as an integer.\n",
        "\n"
      ]
    },
    {
      "cell_type": "code",
      "metadata": {
        "id": "220b5633"
      },
      "source": [
        "while user_answer != correct_answer:\n",
        "    print(question)\n",
        "    for option in options:\n",
        "        print(option)\n",
        "    user_answer = int(input(\"Please enter your answer: \"))"
      ],
      "execution_count": null,
      "outputs": []
    }
  ]
}